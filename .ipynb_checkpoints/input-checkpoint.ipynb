{
 "cells": [
  {
   "cell_type": "code",
   "execution_count": 2,
   "id": "7687eb83",
   "metadata": {},
   "outputs": [
    {
     "name": "stdout",
     "output_type": "stream",
     "text": [
      "C=? 5\n",
      "41.0\n"
     ]
    }
   ],
   "source": [
    "C = input('C=? ')\n",
    "C = float(C)\n",
    "F = (9./5)*C + 32\n",
    "print (F)"
   ]
  },
  {
   "cell_type": "code",
   "execution_count": 3,
   "id": "a5884f9a",
   "metadata": {},
   "outputs": [
    {
     "name": "stdout",
     "output_type": "stream",
     "text": [
      "1+2\n"
     ]
    }
   ],
   "source": [
    "## string 을 tlfwp zhemfh\n",
    "s = '1+2'\n",
    "print(s)\n",
    "r = eval(s)# r = 1+2 r"
   ]
  },
  {
   "cell_type": "code",
   "execution_count": 4,
   "id": "963c3921",
   "metadata": {},
   "outputs": [
    {
     "data": {
      "text/plain": [
       "(int, str)"
      ]
     },
     "execution_count": 4,
     "metadata": {},
     "output_type": "execute_result"
    }
   ],
   "source": [
    "type(r), type(s)"
   ]
  },
  {
   "cell_type": "code",
   "execution_count": 5,
   "id": "cf244a39",
   "metadata": {},
   "outputs": [],
   "source": [
    " r = eval('[1, 6, 7.5] + [1, 2]') # r = [1,, 6, 7.5] + [1, 2] r"
   ]
  },
  {
   "cell_type": "code",
   "execution_count": 6,
   "id": "d968a167",
   "metadata": {},
   "outputs": [
    {
     "data": {
      "text/plain": [
       "list"
      ]
     },
     "execution_count": 6,
     "metadata": {},
     "output_type": "execute_result"
    }
   ],
   "source": [
    "type(r)"
   ]
  },
  {
   "cell_type": "code",
   "execution_count": 8,
   "id": "fad7ea79",
   "metadata": {},
   "outputs": [
    {
     "name": "stdout",
     "output_type": "stream",
     "text": [
      "Give input: 1+2\n",
      "Give input: 2+3\n",
      "<class 'int'> + <class 'int'> becomes <class 'int'>\n",
      "with value 8\n"
     ]
    }
   ],
   "source": [
    " i1 = eval(input('Give input: '))\n",
    "i2 = eval(input('Give input: '))\n",
    "r = i1 + i2\n",
    "print ('%s + %s becomes %s\\nwith value %s' % \\\n",
    "      (type(i1), type(i2), type(r), r))"
   ]
  },
  {
   "cell_type": "code",
   "execution_count": 12,
   "id": "198164f6",
   "metadata": {},
   "outputs": [
    {
     "name": "stdout",
     "output_type": "stream",
     "text": [
      "2\n"
     ]
    }
   ],
   "source": [
    " statement = 'r = 1+1'\n",
    "exec(statement)\n",
    "print (r)\n"
   ]
  },
  {
   "cell_type": "code",
   "execution_count": 17,
   "id": "d0eec64d",
   "metadata": {},
   "outputs": [
    {
     "data": {
      "text/plain": [
       "0.0"
      ]
     },
     "execution_count": 17,
     "metadata": {},
     "output_type": "execute_result"
    }
   ],
   "source": [
    " from scitools.StringFunction import StringFunction #pip install scitools3 \n",
    "formula = 'exp(x)*sin(x)'\n",
    "f = StringFunction(formula)\n",
    "f(0)"
   ]
  },
  {
   "cell_type": "code",
   "execution_count": 21,
   "id": "8ab1fed7",
   "metadata": {},
   "outputs": [
    {
     "name": "stdout",
     "output_type": "stream",
     "text": [
      "5.430821369620198e-16\n",
      "-2.172328547848079e-15\n"
     ]
    }
   ],
   "source": [
    "from math import pi\n",
    "g = StringFunction('A*exp(-a*t)*sin(omega*x)',independent_variable='t', A=1, a=0.1, omega=pi, x=5)\n",
    "print (g(1.2))\n",
    "g.set_parameters(A=2, x=10)\n",
    "print (g(1.2))"
   ]
  },
  {
   "cell_type": "code",
   "execution_count": 22,
   "id": "4b0d27de",
   "metadata": {},
   "outputs": [],
   "source": [
    " f = open('data.txt', 'w')\n",
    "f.write(\"\"\"21.8\n",
    "18.1\n",
    "19\n",
    "23\n",
    "26\n",
    "17.8\n",
    "\"\"\")\n",
    "f.close()"
   ]
  },
  {
   "cell_type": "code",
   "execution_count": null,
   "id": "d77fad67",
   "metadata": {},
   "outputs": [],
   "source": []
  }
 ],
 "metadata": {
  "kernelspec": {
   "display_name": "Python 3 (ipykernel)",
   "language": "python",
   "name": "python3"
  },
  "language_info": {
   "codemirror_mode": {
    "name": "ipython",
    "version": 3
   },
   "file_extension": ".py",
   "mimetype": "text/x-python",
   "name": "python",
   "nbconvert_exporter": "python",
   "pygments_lexer": "ipython3",
   "version": "3.9.7"
  }
 },
 "nbformat": 4,
 "nbformat_minor": 5
}
