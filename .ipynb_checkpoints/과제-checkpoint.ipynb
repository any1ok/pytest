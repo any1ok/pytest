{
 "cells": [
  {
   "cell_type": "code",
   "execution_count": 9,
   "id": "40771165",
   "metadata": {},
   "outputs": [],
   "source": [
    "def gcb(a,b):\n",
    "    tmp= a%b\n",
    "    while tmp!=0:\n",
    "        a=b\n",
    "        b=tmp\n",
    "        tmp=a%b\n",
    "    return abs(b)"
   ]
  },
  {
   "cell_type": "code",
   "execution_count": 10,
   "id": "80817e7c",
   "metadata": {},
   "outputs": [
    {
     "data": {
      "text/plain": [
       "1"
      ]
     },
     "execution_count": 10,
     "metadata": {},
     "output_type": "execute_result"
    }
   ],
   "source": [
    "gcb(51,284)"
   ]
  },
  {
   "cell_type": "code",
   "execution_count": null,
   "id": "922d8f4a",
   "metadata": {},
   "outputs": [],
   "source": []
  }
 ],
 "metadata": {
  "kernelspec": {
   "display_name": "Python 3 (ipykernel)",
   "language": "python",
   "name": "python3"
  },
  "language_info": {
   "codemirror_mode": {
    "name": "ipython",
    "version": 3
   },
   "file_extension": ".py",
   "mimetype": "text/x-python",
   "name": "python",
   "nbconvert_exporter": "python",
   "pygments_lexer": "ipython3",
   "version": "3.9.7"
  }
 },
 "nbformat": 4,
 "nbformat_minor": 5
}
