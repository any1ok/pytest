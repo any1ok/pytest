{
 "cells": [
  {
   "cell_type": "code",
   "execution_count": 34,
   "id": "e2a63617",
   "metadata": {},
   "outputs": [],
   "source": [
    "#1 a)\n",
    "def leibniz(n):\n",
    "    sum = 0\n",
    "    for k in range(0,n+1):\n",
    "        sum += 8*(((4*k+1)*(4*k+3))**(-1))\n",
    "    return sum\n"
   ]
  },
  {
   "cell_type": "code",
   "execution_count": 35,
   "id": "347625ec",
   "metadata": {},
   "outputs": [
    {
     "name": "stdout",
     "output_type": "stream",
     "text": [
      "2.449489742783178\n"
     ]
    }
   ],
   "source": [
    "#1 b)\n",
    "import numpy as np\n",
    "def euler(n):\n",
    "    sum = 0\n",
    "    for k in range(1,n+1):\n",
    "        sum += 6*(k**(-2))\n",
    "    answer = np.sqrt(sum)\n",
    "    return answer\n",
    "\n",
    "print(euler(1))"
   ]
  },
  {
   "cell_type": "code",
   "execution_count": 37,
   "id": "1b4bc137",
   "metadata": {},
   "outputs": [
    {
     "name": "stdout",
     "output_type": "stream",
     "text": [
      "4.999949975381668e-06\n",
      "9.549263356500859e-06\n"
     ]
    }
   ],
   "source": [
    "#1 c)\n",
    "from math import pi\n",
    "\n",
    "a = leibniz(100000)\n",
    "b = euler(100000)\n",
    "print(pi-a)\n",
    "print(pi-b)"
   ]
  },
  {
   "cell_type": "code",
   "execution_count": null,
   "id": "01a1e91a",
   "metadata": {},
   "outputs": [],
   "source": [
    "#1 d) the function leibiniz  more closer to pi then the function euler"
   ]
  },
  {
   "cell_type": "code",
   "execution_count": 48,
   "id": "d0a112c0",
   "metadata": {},
   "outputs": [],
   "source": [
    "# 2 a)\n",
    "def trapezint1(f, a, b):\n",
    "    if a > b:\n",
    "        print ('Error: a=%g > b=%g' % (a, b))\n",
    "        return None\n",
    "    answer = (b-a)/2*(f(a)+f(b))\n",
    "    return answer"
   ]
  },
  {
   "cell_type": "code",
   "execution_count": 49,
   "id": "b860f87b",
   "metadata": {},
   "outputs": [
    {
     "name": "stdout",
     "output_type": "stream",
     "text": [
      "1.9999999999999998\n"
     ]
    }
   ],
   "source": [
    "# 2 b)\n",
    "from math import sin, pi\n",
    "answer = 2 -trapezint1(sin,0,pi)\n",
    "print (answer) # 2 is ordinary"
   ]
  },
  {
   "cell_type": "code",
   "execution_count": 56,
   "id": "583808df",
   "metadata": {},
   "outputs": [
    {
     "name": "stdout",
     "output_type": "stream",
     "text": [
      "1.5707963267948968\n",
      "1.9835235375094544\n",
      "1.9998355038874438\n",
      "1.9999934202594045\n"
     ]
    }
   ],
   "source": [
    "# 2 ㅊ)\n",
    "def trapezint2(f, a, b, n):\n",
    "    n = int(n)\n",
    "    if a > b:\n",
    "        print ('Error: a=%g > b=%g' % (a, b))\n",
    "        return None\n",
    "    h = (b - a)/float(n)\n",
    "    sum = 0\n",
    "    for i in range(0,n):\n",
    "        sum += h*(f(a+i*h)+f(a+(i+1)*h))\n",
    "    answer = sum/2\n",
    "    return answer\n",
    "\n",
    "print(trapezint2(sin,0,pi,2))\n",
    "print(trapezint2(sin,0,pi,10))\n",
    "print(trapezint2(sin,0,pi,100))\n",
    "print(trapezint2(sin,0,pi,500))\n",
    "\n"
   ]
  },
  {
   "cell_type": "code",
   "execution_count": 53,
   "id": "00d351ee",
   "metadata": {},
   "outputs": [
    {
     "name": "stdout",
     "output_type": "stream",
     "text": [
      "1.8137993642342178\n"
     ]
    }
   ],
   "source": []
  },
  {
   "cell_type": "code",
   "execution_count": null,
   "id": "c0d10058",
   "metadata": {},
   "outputs": [],
   "source": []
  }
 ],
 "metadata": {
  "kernelspec": {
   "display_name": "Python 3 (ipykernel)",
   "language": "python",
   "name": "python3"
  },
  "language_info": {
   "codemirror_mode": {
    "name": "ipython",
    "version": 3
   },
   "file_extension": ".py",
   "mimetype": "text/x-python",
   "name": "python",
   "nbconvert_exporter": "python",
   "pygments_lexer": "ipython3",
   "version": "3.9.7"
  }
 },
 "nbformat": 4,
 "nbformat_minor": 5
}
