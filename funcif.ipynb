{
 "cells": [
  {
   "cell_type": "code",
   "execution_count": 2,
   "id": "ffc4131c",
   "metadata": {},
   "outputs": [
    {
     "name": "stdout",
     "output_type": "stream",
     "text": [
      "1.2342\n"
     ]
    }
   ],
   "source": [
    "v0 = 5\n",
    "g = 9.81\n",
    "t = 0.6\n",
    "y = v0*t -0.5*g*t**2\n",
    "print(y)"
   ]
  },
  {
   "cell_type": "code",
   "execution_count": 3,
   "id": "3da8e25d",
   "metadata": {},
   "outputs": [
    {
     "name": "stdout",
     "output_type": "stream",
     "text": [
      "-1.252654900207924\n"
     ]
    }
   ],
   "source": [
    "from math import *\n",
    "x = 10\n",
    "y = sin(x)*log(x)\n",
    "print(y)"
   ]
  },
  {
   "cell_type": "code",
   "execution_count": 5,
   "id": "33c1afb9",
   "metadata": {},
   "outputs": [
    {
     "name": "stdout",
     "output_type": "stream",
     "text": [
      "[5, 10, 20, 40, 45, 50]\n"
     ]
    }
   ],
   "source": [
    "C = [5, 10, 40, 45]\n",
    "i = C.index(10) # result: i=1 \n",
    "C.append(50)\n",
    "C.insert(2, 20)\n",
    "print(C)"
   ]
  },
  {
   "cell_type": "code",
   "execution_count": 15,
   "id": "449d01e2",
   "metadata": {},
   "outputs": [
    {
     "name": "stdout",
     "output_type": "stream",
     "text": [
      "37.4\n"
     ]
    }
   ],
   "source": [
    " C=3\n",
    "#print((9.0/5)*C + 32) \n",
    "print(F(C))\n",
    "\n",
    "def F(C):\n",
    "    return (9.0/5)*C + 32\n"
   ]
  },
  {
   "cell_type": "code",
   "execution_count": 21,
   "id": "d4ac1cec",
   "metadata": {},
   "outputs": [
    {
     "name": "stdout",
     "output_type": "stream",
     "text": [
      "50.0\n",
      "51.8\n",
      "[32.0, 68.0, 104.0]\n"
     ]
    }
   ],
   "source": [
    " def F(C): # This cunction computes ... with ... \n",
    "        return (9.0/5)*C + 32\n",
    "a = 10\n",
    "F1 = F(a) # call \n",
    "print(F1)\n",
    " temp = F(15.5) # call \n",
    "print (F(a+1))\n",
    " Fdegrees = [F(C) for C in [0, 20, 40]]\n",
    "print(Fdegrees)# multiple calls Fdegrees"
   ]
  },
  {
   "cell_type": "code",
   "execution_count": null,
   "id": "9ab81069",
   "metadata": {},
   "outputs": [],
   "source": []
  },
  {
   "cell_type": "code",
   "execution_count": null,
   "id": "6cd3b5c8",
   "metadata": {},
   "outputs": [],
   "source": []
  },
  {
   "cell_type": "code",
   "execution_count": null,
   "id": "92566ef4",
   "metadata": {},
   "outputs": [],
   "source": []
  }
 ],
 "metadata": {
  "kernelspec": {
   "display_name": "Python 3 (ipykernel)",
   "language": "python",
   "name": "python3"
  },
  "language_info": {
   "codemirror_mode": {
    "name": "ipython",
    "version": 3
   },
   "file_extension": ".py",
   "mimetype": "text/x-python",
   "name": "python",
   "nbconvert_exporter": "python",
   "pygments_lexer": "ipython3",
   "version": "3.9.7"
  }
 },
 "nbformat": 4,
 "nbformat_minor": 5
}
