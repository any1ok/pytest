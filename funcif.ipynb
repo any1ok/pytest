{
 "cells": [
  {
   "cell_type": "code",
   "execution_count": 2,
   "id": "ffc4131c",
   "metadata": {},
   "outputs": [
    {
     "name": "stdout",
     "output_type": "stream",
     "text": [
      "1.2342\n"
     ]
    }
   ],
   "source": [
    "v0 = 5\n",
    "g = 9.81\n",
    "t = 0.6\n",
    "y = v0*t -0.5*g*t**2\n",
    "print(y)"
   ]
  },
  {
   "cell_type": "code",
   "execution_count": 3,
   "id": "3da8e25d",
   "metadata": {},
   "outputs": [
    {
     "name": "stdout",
     "output_type": "stream",
     "text": [
      "-1.252654900207924\n"
     ]
    }
   ],
   "source": [
    "from math import *\n",
    "x = 10\n",
    "y = sin(x)*log(x)\n",
    "print(y)"
   ]
  },
  {
   "cell_type": "code",
   "execution_count": 5,
   "id": "320438a1",
   "metadata": {},
   "outputs": [
    {
     "name": "stdout",
     "output_type": "stream",
     "text": [
      "[5, 10, 20, 40, 45, 50]\n"
     ]
    }
   ],
   "source": [
    "C = [5, 10, 40, 45]\n",
    "i = C.index(10) # result: i=1 \n",
    "C.append(50)\n",
    "C.insert(2, 20)\n",
    "print(C)"
   ]
  },
  {
   "cell_type": "code",
   "execution_count": 15,
   "id": "e8965aed",
   "metadata": {},
   "outputs": [
    {
     "name": "stdout",
     "output_type": "stream",
     "text": [
      "37.4\n"
     ]
    }
   ],
   "source": [
    " C=3\n",
    "#print((9.0/5)*C + 32) \n",
    "print(F(C))\n",
    "\n",
    "def F(C):\n",
    "    return (9.0/5)*C + 32\n"
   ]
  },
  {
   "cell_type": "code",
   "execution_count": 21,
   "id": "6d4c65e0",
   "metadata": {},
   "outputs": [
    {
     "name": "stdout",
     "output_type": "stream",
     "text": [
      "50.0\n",
      "51.8\n",
      "[32.0, 68.0, 104.0]\n"
     ]
    }
   ],
   "source": [
    " def F(C): # This cunction computes ... with ... \n",
    "        return (9.0/5)*C + 32\n",
    "a = 10\n",
    "F1 = F(a) # call \n",
    "print(F1)\n",
    " temp = F(15.5) # call \n",
    "print (F(a+1))\n",
    " Fdegrees = [F(C) for C in [0, 20, 40]]\n",
    "print(Fdegrees)# multiple calls Fdegrees"
   ]
  },
  {
   "cell_type": "code",
   "execution_count": 22,
   "id": "3f8f8e19",
   "metadata": {},
   "outputs": [
    {
     "name": "stdout",
     "output_type": "stream",
     "text": [
      "1. local t inside yfunc: 0.6\n",
      "2. local t inside yfunc: 0.1\n",
      "0.15095\n",
      "1. global t: 0.6\n",
      "1. local t inside yfunc: 0.3\n",
      "2. local t inside yfunc: 0.1\n",
      "0.15095\n",
      "2. global t: 0.6\n"
     ]
    }
   ],
   "source": [
    " def yfunc(t):\n",
    "    print ('1. local t inside yfunc:', t) #글로벌로 찍힘\n",
    "    g = 9.81\n",
    "    t = 0.1\n",
    "    print ('2. local t inside yfunc:', t)\n",
    "    return v0*t - 0.5*g*t**2\n",
    "t = 0.6\n",
    "v0 = 2\n",
    "print (yfunc(t))\n",
    "print ('1. global t:', t)\n",
    "print (yfunc(0.3))\n",
    "print ('2. global t:', t)"
   ]
  },
  {
   "cell_type": "code",
   "execution_count": 26,
   "id": "1125bfa6",
   "metadata": {},
   "outputs": [
    {
     "name": "stdout",
     "output_type": "stream",
     "text": [
      "1. v0: 2\n",
      "4.0607999999999995\n",
      "2. v0: 9\n"
     ]
    }
   ],
   "source": [
    "def yfunc(t):\n",
    "    g = 9.81\n",
    "    global v0 # now v0 can be changed inside this function \n",
    "    v0 = 9\n",
    "    return v0*t - 0.5*g*t**2\n",
    "\n",
    "\n",
    "v0 = 2 # global variable \n",
    "print ('1. v0:', v0)\n",
    "print (yfunc(0.8))\n",
    "print ('2. v0:', v0)"
   ]
  },
  {
   "cell_type": "code",
   "execution_count": 27,
   "id": "f351f393",
   "metadata": {},
   "outputs": [
    {
     "name": "stdout",
     "output_type": "stream",
     "text": [
      "0.034199999999999786 -2.886\n"
     ]
    }
   ],
   "source": [
    " def yfunc(t, v0):\n",
    "    g = 9.81\n",
    "    y = v0*t - 0.5*g*t**2\n",
    "    dydt = v0 - g*t\n",
    "    return y, dydt\n",
    "# call:\n",
    "position, velocity = yfunc(0.6, 3)\n",
    "print(position, velocity)"
   ]
  },
  {
   "cell_type": "code",
   "execution_count": 30,
   "id": "e065a8f7",
   "metadata": {},
   "outputs": [
    {
     "name": "stdout",
     "output_type": "stream",
     "text": [
      "(2, 4, 16)\n"
     ]
    }
   ],
   "source": [
    "def f(x):\n",
    "    return x, x**2, x**4\n",
    "\n",
    "print(f(2))"
   ]
  },
  {
   "cell_type": "code",
   "execution_count": 34,
   "id": "baae4e03",
   "metadata": {},
   "outputs": [
    {
     "name": "stdout",
     "output_type": "stream",
     "text": [
      "1.7368363532538857 1.7917594686571028 1.791759469228055\n"
     ]
    }
   ],
   "source": [
    "# log import\n",
    "def L(x, n):\n",
    "    x = float(x) # ensure float division below \n",
    "    s=0\n",
    "    for i in range(1, n+1):\n",
    "        s += (1.0/i)*(x/(1+x))**i\n",
    "    return s\n",
    "x=5\n",
    "from math import log as ln\n",
    "print (L(x, 10), L(x, 100), ln(1+x))"
   ]
  },
  {
   "cell_type": "code",
   "execution_count": 38,
   "id": "bc473a8b",
   "metadata": {},
   "outputs": [
    {
     "name": "stdout",
     "output_type": "stream",
     "text": [
      "(4.0, 1.0)\n"
     ]
    }
   ],
   "source": [
    "##import numpy as np 루트\n",
    "import numpy as np\n",
    "def myfunc(a, b, c = 0):\n",
    "    x1 = (-b + np.sqrt(b**2 - 4*a*c))/(2*a)\n",
    "    x2 = (-b - np.sqrt(b**2 - 4*a*c))/(2*a)\n",
    "    return x1, x2\n",
    "print(myfunc(1, -5, 4))\n"
   ]
  },
  {
   "cell_type": "code",
   "execution_count": 40,
   "id": "d594b57c",
   "metadata": {},
   "outputs": [
    {
     "name": "stdout",
     "output_type": "stream",
     "text": [
      "Hello [1, 2] H1 0\n"
     ]
    }
   ],
   "source": [
    "# 데이터 들어가는 양식\n",
    "def somefunc(arg1, arg2, kwarg1=True, kwarg2=0):\n",
    "    print (arg1, arg2, kwarg1, kwarg2)\n",
    "    \n",
    "somefunc('Hello',[1,2],kwarg1='H1')\n",
    "    "
   ]
  },
  {
   "cell_type": "code",
   "execution_count": 43,
   "id": "42a4993f",
   "metadata": {},
   "outputs": [
    {
     "data": {
      "text/plain": [
       "(0.778659217806053,\n",
       " 0.16265669081533915,\n",
       " 0.5219508827258282,\n",
       " 4.230480200204721,\n",
       " 7.007932960254476)"
      ]
     },
     "execution_count": 43,
     "metadata": {},
     "output_type": "execute_result"
    }
   ],
   "source": [
    "# from math import pi, exp, sin\n",
    "\n",
    "def f(t, A=1, a=1, omega=2*pi):\n",
    "    return A*exp(-a*t)*sin(omega*t)\n",
    "\n",
    "v1 = f(0.2)\n",
    "v2 = f(0.2, omega=1)\n",
    "v3 = f(0.2, 1, 3) # same as f(0.2, A=1, a=3) v3 = f(0.2, omega=1, A=2.5)\n",
    "v4 = f(A=5, a=0.1, omega=1, t=1.3)\n",
    "v5 = f(t=0.2, A=9)\n",
    "v1, v2, v3, v4, v5"
   ]
  },
  {
   "cell_type": "code",
   "execution_count": 61,
   "id": "e10d342e",
   "metadata": {},
   "outputs": [],
   "source": [
    " def diff2(f, x, h=1E-6):\n",
    "    r = (f(x-h) - 2*f(x) + f(x+h))/float(h*h)\n",
    "    return r"
   ]
  },
  {
   "cell_type": "code",
   "execution_count": 62,
   "id": "aebbce75",
   "metadata": {},
   "outputs": [
    {
     "name": "stdout",
     "output_type": "stream",
     "text": [
      "h=1e-01: 44.61504\n",
      "h=1e-02: 42.02521\n",
      "h=1e-03: 42.00025\n",
      "h=1e-04: 42.00000\n",
      "h=1e-05: 41.99999\n",
      "h=1e-06: 42.00074\n",
      "h=1e-07: 41.94423\n",
      "h=1e-08: 47.73959\n",
      "h=1e-09: -666.13381\n",
      "h=1e-10: 0.00000\n",
      "h=1e-11: 0.00000\n",
      "h=1e-12: -666133814.77509\n",
      "h=1e-13: 66613381477.50939\n"
     ]
    }
   ],
   "source": [
    " def g(t):\n",
    "    return t**(-6)\n",
    "# make table of g''(t) for 13 h values:\n",
    "for k in range(1,14):\n",
    "    h = 10**(-k)\n",
    "    print ('h=%.0e: %.5f' % (h, diff2(g, 1, h)))"
   ]
  },
  {
   "cell_type": "code",
   "execution_count": 60,
   "id": "16b1aa6a",
   "metadata": {},
   "outputs": [
    {
     "name": "stdout",
     "output_type": "stream",
     "text": [
      "0.006401563307223412\n"
     ]
    }
   ],
   "source": [
    " ## 함수집어넣기\n",
    "    def g(t):\n",
    "    return t**(-6)\n",
    "\n",
    "dgdt = diff2(g,3)\n",
    "print (dgdt)"
   ]
  },
  {
   "cell_type": "code",
   "execution_count": 67,
   "id": "959cafb8",
   "metadata": {},
   "outputs": [
    {
     "name": "stdout",
     "output_type": "stream",
     "text": [
      "0.479425538604203\n",
      "0\n"
     ]
    }
   ],
   "source": [
    "from math import sin, pi\n",
    "def f(x):\n",
    "    if 0 <= x <= pi:\n",
    "        return sin(x)\n",
    "    else:\n",
    "        return 0\n",
    "\n",
    "print (f(0.5))\n",
    "print (f(5*pi))"
   ]
  },
  {
   "cell_type": "code",
   "execution_count": 73,
   "id": "b0d6c9bd",
   "metadata": {},
   "outputs": [],
   "source": [
    "#assertion\n",
    "def double(x): # some function \n",
    "    return 2*x+1\n",
    "def test_double(): # associated test function \"\"\"Call double(x) to check that it works.\"\"\"\n",
    "    x = 4 # some chosen x value\n",
    "    expected = 8 # expected result from double(x) \n",
    "    computed = double(x)\n",
    "    success = computed == expected # boolean value: test passed? \n",
    "    msg = 'computed %s, expected %s' % (computed, expected) \n",
    "    assert success, msg #assertion"
   ]
  },
  {
   "cell_type": "code",
   "execution_count": 74,
   "id": "b0af2b73",
   "metadata": {},
   "outputs": [
    {
     "ename": "AssertionError",
     "evalue": "computed 9, expected 8",
     "output_type": "error",
     "traceback": [
      "\u001b[0;31m---------------------------------------------------------------------------\u001b[0m",
      "\u001b[0;31mAssertionError\u001b[0m                            Traceback (most recent call last)",
      "\u001b[0;32m/var/folders/gr/5y2697vn0wvbt4g5p2bzzv5m0000gn/T/ipykernel_10641/3884782960.py\u001b[0m in \u001b[0;36m<module>\u001b[0;34m\u001b[0m\n\u001b[0;32m----> 1\u001b[0;31m \u001b[0mtest_double\u001b[0m\u001b[0;34m(\u001b[0m\u001b[0;34m)\u001b[0m\u001b[0;34m\u001b[0m\u001b[0;34m\u001b[0m\u001b[0m\n\u001b[0m\u001b[1;32m      2\u001b[0m \u001b[0mprint\u001b[0m\u001b[0;34m(\u001b[0m\u001b[0mtest_double\u001b[0m\u001b[0;34m)\u001b[0m\u001b[0;34m\u001b[0m\u001b[0;34m\u001b[0m\u001b[0m\n",
      "\u001b[0;32m/var/folders/gr/5y2697vn0wvbt4g5p2bzzv5m0000gn/T/ipykernel_10641/4185803790.py\u001b[0m in \u001b[0;36mtest_double\u001b[0;34m()\u001b[0m\n\u001b[1;32m      7\u001b[0m     \u001b[0msuccess\u001b[0m \u001b[0;34m=\u001b[0m \u001b[0mcomputed\u001b[0m \u001b[0;34m==\u001b[0m \u001b[0mexpected\u001b[0m \u001b[0;31m# boolean value: test passed?\u001b[0m\u001b[0;34m\u001b[0m\u001b[0;34m\u001b[0m\u001b[0m\n\u001b[1;32m      8\u001b[0m     \u001b[0mmsg\u001b[0m \u001b[0;34m=\u001b[0m \u001b[0;34m'computed %s, expected %s'\u001b[0m \u001b[0;34m%\u001b[0m \u001b[0;34m(\u001b[0m\u001b[0mcomputed\u001b[0m\u001b[0;34m,\u001b[0m \u001b[0mexpected\u001b[0m\u001b[0;34m)\u001b[0m\u001b[0;34m\u001b[0m\u001b[0;34m\u001b[0m\u001b[0m\n\u001b[0;32m----> 9\u001b[0;31m     \u001b[0;32massert\u001b[0m \u001b[0msuccess\u001b[0m\u001b[0;34m,\u001b[0m \u001b[0mmsg\u001b[0m\u001b[0;34m\u001b[0m\u001b[0;34m\u001b[0m\u001b[0m\n\u001b[0m",
      "\u001b[0;31mAssertionError\u001b[0m: computed 9, expected 8"
     ]
    }
   ],
   "source": [
    "test_double()\n",
    "print(test_double)"
   ]
  },
  {
   "cell_type": "code",
   "execution_count": 75,
   "id": "d3e9d087",
   "metadata": {},
   "outputs": [
    {
     "name": "stdout",
     "output_type": "stream",
     "text": [
      "-0.25\n"
     ]
    }
   ],
   "source": [
    "a = 1.5\n",
    "b = 2.0\n",
    "n=8\n",
    "g = lambda x: 3*x**2 - 7*x + 2.5 # test integrand\n",
    "G = lambda x: x**3 - 3.5*x**2 + 2.5*x # integral of g\n",
    "exact = G(b) - G(a)\n",
    "print(exact)"
   ]
  },
  {
   "cell_type": "code",
   "execution_count": 79,
   "id": "fdc1ec2d",
   "metadata": {},
   "outputs": [
    {
     "name": "stdout",
     "output_type": "stream",
     "text": [
      "0.5\n"
     ]
    }
   ],
   "source": [
    "def mit(x):\n",
    "    return x**(-1)\n",
    "\n",
    "print(mit(2))"
   ]
  },
  {
   "cell_type": "code",
   "execution_count": null,
   "id": "60a1be94",
   "metadata": {},
   "outputs": [],
   "source": []
  }
 ],
 "metadata": {
  "kernelspec": {
   "display_name": "Python 3 (ipykernel)",
   "language": "python",
   "name": "python3"
  },
  "language_info": {
   "codemirror_mode": {
    "name": "ipython",
    "version": 3
   },
   "file_extension": ".py",
   "mimetype": "text/x-python",
   "name": "python",
   "nbconvert_exporter": "python",
   "pygments_lexer": "ipython3",
   "version": "3.9.7"
  }
 },
 "nbformat": 4,
 "nbformat_minor": 5
}
