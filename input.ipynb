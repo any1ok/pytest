{
 "cells": [
  {
   "cell_type": "code",
   "execution_count": 2,
   "id": "7687eb83",
   "metadata": {},
   "outputs": [
    {
     "name": "stdout",
     "output_type": "stream",
     "text": [
      "C=? 5\n",
      "41.0\n"
     ]
    }
   ],
   "source": [
    "C = input('C=? ')\n",
    "C = float(C)\n",
    "F = (9./5)*C + 32\n",
    "print (F)"
   ]
  },
  {
   "cell_type": "code",
   "execution_count": 3,
   "id": "a5884f9a",
   "metadata": {},
   "outputs": [
    {
     "name": "stdout",
     "output_type": "stream",
     "text": [
      "1+2\n"
     ]
    }
   ],
   "source": [
    "## string 을 tlfwp zhemfh\n",
    "s = '1+2'\n",
    "print(s)\n",
    "r = eval(s)# r = 1+2 r"
   ]
  },
  {
   "cell_type": "code",
   "execution_count": 4,
   "id": "963c3921",
   "metadata": {},
   "outputs": [
    {
     "data": {
      "text/plain": [
       "(int, str)"
      ]
     },
     "execution_count": 4,
     "metadata": {},
     "output_type": "execute_result"
    }
   ],
   "source": [
    "type(r), type(s)"
   ]
  },
  {
   "cell_type": "code",
   "execution_count": 44,
   "id": "cf244a39",
   "metadata": {},
   "outputs": [],
   "source": [
    " r = eval('[1, 6, 7.5] + [1, 2]') # r = [1,, 6, 7.5] + [1, 2] r"
   ]
  },
  {
   "cell_type": "code",
   "execution_count": 45,
   "id": "d968a167",
   "metadata": {},
   "outputs": [
    {
     "name": "stdout",
     "output_type": "stream",
     "text": [
      "[1, 6, 7.5, 1, 2]\n"
     ]
    }
   ],
   "source": [
    "print(r)"
   ]
  },
  {
   "cell_type": "code",
   "execution_count": 8,
   "id": "fad7ea79",
   "metadata": {},
   "outputs": [
    {
     "name": "stdout",
     "output_type": "stream",
     "text": [
      "Give input: 1+2\n",
      "Give input: 2+3\n",
      "<class 'int'> + <class 'int'> becomes <class 'int'>\n",
      "with value 8\n"
     ]
    }
   ],
   "source": [
    " i1 = eval(input('Give input: '))\n",
    "i2 = eval(input('Give input: '))\n",
    "r = i1 + i2\n",
    "print ('%s + %s becomes %s\\nwith value %s' % \\\n",
    "      (type(i1), type(i2), type(r), r))"
   ]
  },
  {
   "cell_type": "code",
   "execution_count": 12,
   "id": "198164f6",
   "metadata": {},
   "outputs": [
    {
     "name": "stdout",
     "output_type": "stream",
     "text": [
      "2\n"
     ]
    }
   ],
   "source": [
    " statement = 'r = 1+1'\n",
    "exec(statement)\n",
    "print (r)\n"
   ]
  },
  {
   "cell_type": "code",
   "execution_count": 17,
   "id": "d0eec64d",
   "metadata": {},
   "outputs": [
    {
     "data": {
      "text/plain": [
       "0.0"
      ]
     },
     "execution_count": 17,
     "metadata": {},
     "output_type": "execute_result"
    }
   ],
   "source": [
    " from scitools.StringFunction import StringFunction #pip install scitools3 \n",
    "formula = 'exp(x)*sin(x)'\n",
    "f = StringFunction(formula)\n",
    "f(0)"
   ]
  },
  {
   "cell_type": "code",
   "execution_count": 21,
   "id": "8ab1fed7",
   "metadata": {},
   "outputs": [
    {
     "name": "stdout",
     "output_type": "stream",
     "text": [
      "5.430821369620198e-16\n",
      "-2.172328547848079e-15\n"
     ]
    }
   ],
   "source": [
    "from math import pi\n",
    "g = StringFunction('A*exp(-a*t)*sin(omega*x)',independent_variable='t', A=1, a=0.1, omega=pi, x=5)\n",
    "print (g(1.2))\n",
    "g.set_parameters(A=2, x=10)\n",
    "print (g(1.2))"
   ]
  },
  {
   "cell_type": "code",
   "execution_count": 37,
   "id": "4b0d27de",
   "metadata": {},
   "outputs": [],
   "source": [
    " f = open('data.txt', 'w')\n",
    "f.write(\"\"\"21.8\n",
    "18.1\n",
    "19\n",
    "23\n",
    "26\n",
    "17.8\n",
    "\"\"\")\n",
    "f.close()"
   ]
  },
  {
   "cell_type": "code",
   "execution_count": 26,
   "id": "d77fad67",
   "metadata": {},
   "outputs": [
    {
     "data": {
      "text/plain": [
       "['21.8\\n', '18.1\\n', '19\\n', '23\\n', '26\\n', '17.8\\n']"
      ]
     },
     "execution_count": 26,
     "metadata": {},
     "output_type": "execute_result"
    }
   ],
   "source": [
    "infile = open('data.txt', 'r') \n",
    "lines = []\n",
    "for line in infile:\n",
    "    lines.append(line)\n",
    "infile.close()\n",
    "lines"
   ]
  },
  {
   "cell_type": "code",
   "execution_count": 38,
   "id": "65ce8c7f",
   "metadata": {},
   "outputs": [
    {
     "name": "stdout",
     "output_type": "stream",
     "text": [
      "21.8\n",
      "\n",
      "18.1\n",
      "\n",
      "19\n",
      "\n",
      "23\n",
      "\n",
      "26\n",
      "\n",
      "17.8\n",
      "\n",
      "20.95\n"
     ]
    }
   ],
   "source": [
    "infile = open('data.txt', 'r') \n",
    "mean = 0\n",
    "for line in infile:\n",
    "    number = float(line)\n",
    "    mean = mean + number\n",
    "    print(line)\n",
    "mean = mean/len(lines)\n",
    "print (mean)"
   ]
  },
  {
   "cell_type": "code",
   "execution_count": 35,
   "id": "54348f3f",
   "metadata": {},
   "outputs": [
    {
     "ename": "TypeError",
     "evalue": "unsupported operand type(s) for +: 'int' and 'str'",
     "output_type": "error",
     "traceback": [
      "\u001b[0;31m---------------------------------------------------------------------------\u001b[0m",
      "\u001b[0;31mTypeError\u001b[0m                                 Traceback (most recent call last)",
      "\u001b[0;32m/var/folders/gr/5y2697vn0wvbt4g5p2bzzv5m0000gn/T/ipykernel_1455/893801840.py\u001b[0m in \u001b[0;36m<module>\u001b[0;34m\u001b[0m\n\u001b[1;32m      3\u001b[0m \u001b[0;32mfor\u001b[0m \u001b[0mline\u001b[0m \u001b[0;32min\u001b[0m \u001b[0minfile\u001b[0m\u001b[0;34m:\u001b[0m\u001b[0;34m\u001b[0m\u001b[0;34m\u001b[0m\u001b[0m\n\u001b[1;32m      4\u001b[0m     \u001b[0mnumber\u001b[0m \u001b[0;34m=\u001b[0m \u001b[0mline\u001b[0m\u001b[0;34m\u001b[0m\u001b[0;34m\u001b[0m\u001b[0m\n\u001b[0;32m----> 5\u001b[0;31m     \u001b[0mmean\u001b[0m \u001b[0;34m=\u001b[0m \u001b[0mmean\u001b[0m \u001b[0;34m+\u001b[0m \u001b[0mnumber\u001b[0m\u001b[0;34m\u001b[0m\u001b[0;34m\u001b[0m\u001b[0m\n\u001b[0m\u001b[1;32m      6\u001b[0m \u001b[0mmean\u001b[0m \u001b[0;34m=\u001b[0m \u001b[0mmean\u001b[0m\u001b[0;34m/\u001b[0m\u001b[0mlen\u001b[0m\u001b[0;34m(\u001b[0m\u001b[0mlines\u001b[0m\u001b[0;34m)\u001b[0m\u001b[0;34m\u001b[0m\u001b[0;34m\u001b[0m\u001b[0m\n\u001b[1;32m      7\u001b[0m \u001b[0mprint\u001b[0m \u001b[0;34m(\u001b[0m\u001b[0mmean\u001b[0m\u001b[0;34m)\u001b[0m\u001b[0;34m\u001b[0m\u001b[0;34m\u001b[0m\u001b[0m\n",
      "\u001b[0;31mTypeError\u001b[0m: unsupported operand type(s) for +: 'int' and 'str'"
     ]
    }
   ],
   "source": [
    "infile = open('data.txt', 'r') \n",
    "mean = 0\n",
    "for line in infile:\n",
    "    number = line\n",
    "    mean = mean + number\n",
    "mean = mean/len(lines)\n",
    "print (mean)"
   ]
  },
  {
   "cell_type": "code",
   "execution_count": 42,
   "id": "85ef96db",
   "metadata": {},
   "outputs": [
    {
     "ename": "NameError",
     "evalue": "name 'data' is not defined",
     "output_type": "error",
     "traceback": [
      "\u001b[0;31m---------------------------------------------------------------------------\u001b[0m",
      "\u001b[0;31mNameError\u001b[0m                                 Traceback (most recent call last)",
      "\u001b[0;32m/var/folders/gr/5y2697vn0wvbt4g5p2bzzv5m0000gn/T/ipykernel_1455/1014357400.py\u001b[0m in \u001b[0;36m<module>\u001b[0;34m\u001b[0m\n\u001b[1;32m      1\u001b[0m \u001b[0moutfile\u001b[0m \u001b[0;34m=\u001b[0m \u001b[0mopen\u001b[0m\u001b[0;34m(\u001b[0m\u001b[0;34m'tmp_table.txt'\u001b[0m\u001b[0;34m,\u001b[0m \u001b[0;34m'r'\u001b[0m\u001b[0;34m)\u001b[0m\u001b[0;34m\u001b[0m\u001b[0;34m\u001b[0m\u001b[0m\n\u001b[0;32m----> 2\u001b[0;31m \u001b[0;32mfor\u001b[0m \u001b[0mrow\u001b[0m \u001b[0;32min\u001b[0m \u001b[0mdata\u001b[0m\u001b[0;34m:\u001b[0m\u001b[0;34m\u001b[0m\u001b[0;34m\u001b[0m\u001b[0m\n\u001b[0m\u001b[1;32m      3\u001b[0m     \u001b[0;32mfor\u001b[0m \u001b[0mcolumn\u001b[0m \u001b[0;32min\u001b[0m \u001b[0mrow\u001b[0m\u001b[0;34m:\u001b[0m\u001b[0;34m\u001b[0m\u001b[0;34m\u001b[0m\u001b[0m\n\u001b[1;32m      4\u001b[0m         \u001b[0moutfile\u001b[0m\u001b[0;34m.\u001b[0m\u001b[0mwrite\u001b[0m\u001b[0;34m(\u001b[0m\u001b[0;34m'%14.8f'\u001b[0m \u001b[0;34m%\u001b[0m \u001b[0mcolumn\u001b[0m\u001b[0;34m)\u001b[0m\u001b[0;34m\u001b[0m\u001b[0;34m\u001b[0m\u001b[0m\n\u001b[1;32m      5\u001b[0m     \u001b[0moutfile\u001b[0m\u001b[0;34m.\u001b[0m\u001b[0mwrite\u001b[0m\u001b[0;34m(\u001b[0m\u001b[0;34m'\\n'\u001b[0m\u001b[0;34m)\u001b[0m\u001b[0;34m\u001b[0m\u001b[0;34m\u001b[0m\u001b[0m\n",
      "\u001b[0;31mNameError\u001b[0m: name 'data' is not defined"
     ]
    }
   ],
   "source": [
    "outfile = open('tmp_table.txt', 'r') \n",
    "for row in data:\n",
    "    for column in row: \n",
    "        outfile.write('%14.8f' % column)\n",
    "    outfile.write('\\n') \n",
    "outfile.close()"
   ]
  },
  {
   "cell_type": "code",
   "execution_count": null,
   "id": "625bb160",
   "metadata": {},
   "outputs": [],
   "source": []
  }
 ],
 "metadata": {
  "kernelspec": {
   "display_name": "Python 3 (ipykernel)",
   "language": "python",
   "name": "python3"
  },
  "language_info": {
   "codemirror_mode": {
    "name": "ipython",
    "version": 3
   },
   "file_extension": ".py",
   "mimetype": "text/x-python",
   "name": "python",
   "nbconvert_exporter": "python",
   "pygments_lexer": "ipython3",
   "version": "3.9.7"
  }
 },
 "nbformat": 4,
 "nbformat_minor": 5
}
